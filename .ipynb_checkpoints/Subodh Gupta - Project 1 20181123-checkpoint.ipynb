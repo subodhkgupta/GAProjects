{
 "cells": [
  {
   "cell_type": "markdown",
   "metadata": {},
   "source": [
    "<img src=\"http://imgur.com/1ZcRyrc.png\" style=\"float: left; margin: 20px; height: 55px\">\n",
    "\n",
    "# Project 1: Python Coding Exercises\n",
    "\n",
    "_Authors: Joseph Nelson (DC) _\n",
    "\n",
    "---"
   ]
  },
  {
   "cell_type": "markdown",
   "metadata": {},
   "source": [
    "The following code challenges are drawn from common exercises used in technical interviews.\n",
    "\n",
    "Please note that there may be several ways to approach each challenge. If you get stuck, try mapping out your approach in pseudocode first. Finally, while solutions to problems like these may be found online, remember that if you copy/paste code that you can't explain, you'll be missing out on the point of the project. The only way to truly learn a new skill is through practice, trial, and error - we can only help you improve by understanding where you are having trouble."
   ]
  },
  {
   "cell_type": "markdown",
   "metadata": {},
   "source": [
    "### Challenge 1: Largest Palindrome\n",
    "A palindromic number reads the same both ways. For example, 1234321 is a palindrome. The largest palindrome made from the product of two two-digit numbers is 9009 = 91 × 99. Find the largest palindrome made from the product of two three-digit numbers. Afterward, write a brief explanation walking through your code's logic in markdown."
   ]
  },
  {
   "cell_type": "code",
   "execution_count": 77,
   "metadata": {},
   "outputs": [
    {
     "name": "stdout",
     "output_type": "stream",
     "text": [
      "906609\n",
      "998001\n"
     ]
    }
   ],
   "source": [
    "x = list(range(100,1000))\n",
    "y = list(range(100,1000))       \n",
    "lar = []\n",
    "for i in x:\n",
    "    for j in y:\n",
    "        z = str(i*j)\n",
    "        zrev = z[::-1]\n",
    "        if z == zrev:\n",
    "            lar.append(int(z))\n",
    "print(max(lar))\n",
    "print(999*999)"
   ]
  },
  {
   "cell_type": "markdown",
   "metadata": {},
   "source": [
    "First we get the list of possible 3 digit numbers in 2 independent lists. \n",
    "\n",
    "Then, iterate through the product of each element in the 2 lists checking to see if they are palindromes. If they are then, they are appended to an empty list. \n",
    "\n",
    "Finally, check what is the largest number present in that newly populated list."
   ]
  },
  {
   "cell_type": "markdown",
   "metadata": {},
   "source": [
    "\n",
    "### Challenge 2: Summation of Primes\n",
    "The sum of the primes below 10 is 2 + 3 + 5 + 7 = 17. Find the sum of all the primes below 2,000. Afterward, write a brief explanation walking through your code's logic in markdown."
   ]
  },
  {
   "cell_type": "code",
   "execution_count": 154,
   "metadata": {},
   "outputs": [
    {
     "name": "stdout",
     "output_type": "stream",
     "text": [
      "9\n"
     ]
    }
   ],
   "source": [
    "import math as math\n",
    "def is_prime(num):\n",
    "#    sqrt_num = math.sqrt(num) + 1\n",
    "#    for i in range(2,sqrt(num)):\n",
    "     print(num)\n",
    "#    print(sqrt_num)\n",
    "\n",
    "\n",
    "is_prime(9)"
   ]
  },
  {
   "cell_type": "code",
   "execution_count": 142,
   "metadata": {},
   "outputs": [
    {
     "name": "stdin",
     "output_type": "stream",
     "text": [
      "enter a number:  9\n"
     ]
    },
    {
     "name": "stdout",
     "output_type": "stream",
     "text": [
      "not prime number\n"
     ]
    }
   ],
   "source": [
    "num = int(input(\"enter a number: \"))\n",
    "l = []\n",
    "for i in range(2, int(num/2)):\n",
    "    if num % i  == 0:\n",
    "        l.append(i)\n",
    "for "
   ]
  },
  {
   "cell_type": "code",
   "execution_count": 149,
   "metadata": {},
   "outputs": [
    {
     "name": "stdout",
     "output_type": "stream",
     "text": [
      "y [3, 5, 7, 9]\n"
     ]
    }
   ],
   "source": [
    "x = list(range(3,10,2))\n",
    "y = []\n",
    "z = []\n",
    "total = 2\n",
    "for i in x:\n",
    "    if i > 2 and i % 2 == 1:\n",
    "        y.append(i)\n",
    "print(\"y\",y)\n",
    "#for j in y:\n",
    "#    for k in y:\n",
    "#        if j % k == 1:\n",
    "#            z.append(j)\n",
    "    \n",
    "#print(\"z \",z)\n",
    "    \n",
    "    \n",
    "#    if y[j+1] % j == 0:\n",
    "#        z.append(j)\n",
    "#    if (j+1) % j == 0:\n",
    "#        z.append(j)\n",
    "#    if j > 5 and j % 5 == 0:\n",
    "#        z.append(j)\n",
    "#    if j > 7 and j % 7 == 0:\n",
    "#        z.append(j)\n",
    "#print(\"z \",z)\n",
    "#for k in z:\n",
    "#    for l in y:\n",
    "#        if k == l:\n",
    "#            y.remove(l)\n",
    "#print(\"new y\", y)\n",
    "#for m in y:\n",
    "#    total = total + m\n",
    "#print(\"total is \", total)"
   ]
  },
  {
   "cell_type": "code",
   "execution_count": null,
   "metadata": {},
   "outputs": [],
   "source": [
    "x = list(range(0,2000))\n",
    "y = []\n",
    "z = []\n",
    "total = 2\n",
    "for i in x:\n",
    "    if i > 1 and i % 2 == 1:\n",
    "        y.append(i)\n",
    "#print(\"y \",y)\n",
    "for j in y:\n",
    "    print(j)"
   ]
  },
  {
   "cell_type": "markdown",
   "metadata": {},
   "source": [
    "### Challenge 3: Multiples of 3 and 5\n",
    "If we list all of the natural numbers below 10 that are multiples of 3 or 5, we get 3, 5, 6, and 9. The sum of these multiples is 23. Find the sum of all the multiples of 3 and 5 below 1,000. Afterward, write a brief explanation walking through your code's logic in markdown."
   ]
  },
  {
   "cell_type": "code",
   "execution_count": 51,
   "metadata": {},
   "outputs": [
    {
     "name": "stdout",
     "output_type": "stream",
     "text": [
      "233168\n"
     ]
    }
   ],
   "source": [
    "x = list(range(1,1000))\n",
    "y = []\n",
    "total = 0\n",
    "for i in x:\n",
    "    if i % 3 == 0 or i % 5 == 0:\n",
    "        y.append(i)\n",
    "for j in y:\n",
    "    total = total + j\n",
    "print(total)"
   ]
  },
  {
   "cell_type": "markdown",
   "metadata": {},
   "source": [
    "First we store all possible values in a list.\n",
    "\n",
    "Next, we filter out the values that are divisible by 3 or 5 & place them in another list.\n",
    "\n",
    "Finally, we loop through the second list, adding all the values & storing them in a variable."
   ]
  },
  {
   "cell_type": "markdown",
   "metadata": {},
   "source": [
    "### Challenge 4: String Compressor\n",
    "Implement a method to perform basic string compression using the counts of repeated characters. (This is called run-length encoding.) For example, the string \"aabcccccaaa\" would become a2b1c5a3. If the “compressed” string would not become smaller than the original string, your method should return the original string. You can assume the string has only uppercase and lowercase letters (a–z). Specify whether your solution is case sensitive or case insensitive and what you would need to change to make it the other. Afterward, write a brief explanation walking through your code's logic in markdown."
   ]
  },
  {
   "cell_type": "code",
   "execution_count": 146,
   "metadata": {},
   "outputs": [
    {
     "name": "stdout",
     "output_type": "stream",
     "text": [
      "s5d5a6\n"
     ]
    }
   ],
   "source": [
    "def com(val):\n",
    "    val = str(val)\n",
    "    lval = val.lower()\n",
    "    uval = list(set(lval))\n",
    "    count = {}\n",
    "    for i in uval:\n",
    "        num = 0\n",
    "        for j in lval:\n",
    "            if i == j:\n",
    "                num = num + 1\n",
    "        count[i] = num\n",
    "    count = str(count)\n",
    "    count = count.replace(\":\",\"\")\n",
    "    count = count.replace(\",\",\"\")\n",
    "    count = count.replace(\" \",\"\")\n",
    "    count = count.replace(\"'\",\"\")\n",
    "    count = count.replace(\"{\",\"\")\n",
    "    count = count.replace(\"}\",\"\")\n",
    "    if len(val) > len(count):\n",
    "        print(count)\n",
    "    else:\n",
    "        print(val)\n",
    "\n",
    "com(\"ASDsdadsaASDsada\")"
   ]
  },
  {
   "cell_type": "markdown",
   "metadata": {},
   "source": [
    "First define a function to accept a value. Ensure this value is a string & in lower case. \n",
    "\n",
    "Create a dictionary for the count of each alphabet.\n",
    "\n",
    "Convert this dictionary into a string & remove all excess characters. Compare the count of characters to the original value. Print whichever is shorter.\n",
    "\n",
    "Fucntion is case insensitive (will always be lower case). To make it case sensitive, remove the lowercase operation."
   ]
  },
  {
   "cell_type": "markdown",
   "metadata": {},
   "source": [
    "### *BONUS* Challenge: FizzBuzz\n",
    "Write a program that prints all of the numbers from 1 to 100. For multiples of 3, instead of the number, print \"Fizz;\" for multiples of 5, print \"Buzz.\" For numbers that are multiples of both 3 and 5, print \"FizzBuzz.\" Afterward, write a brief explanation walking through your code's logic in markdown."
   ]
  },
  {
   "cell_type": "code",
   "execution_count": 88,
   "metadata": {
    "scrolled": true
   },
   "outputs": [
    {
     "name": "stdout",
     "output_type": "stream",
     "text": [
      "1\n",
      "2\n",
      "Fizz\n",
      "4\n",
      "Buzz\n",
      "Fizz\n",
      "7\n",
      "8\n",
      "Fizz\n",
      "Buzz\n",
      "11\n",
      "Fizz\n",
      "13\n",
      "14\n",
      "FizzBuzz\n",
      "16\n",
      "17\n",
      "Fizz\n",
      "19\n",
      "Buzz\n",
      "Fizz\n",
      "22\n",
      "23\n",
      "Fizz\n",
      "Buzz\n",
      "26\n",
      "Fizz\n",
      "28\n",
      "29\n",
      "FizzBuzz\n",
      "31\n",
      "32\n",
      "Fizz\n",
      "34\n",
      "Buzz\n",
      "Fizz\n",
      "37\n",
      "38\n",
      "Fizz\n",
      "Buzz\n",
      "41\n",
      "Fizz\n",
      "43\n",
      "44\n",
      "FizzBuzz\n",
      "46\n",
      "47\n",
      "Fizz\n",
      "49\n",
      "Buzz\n",
      "Fizz\n",
      "52\n",
      "53\n",
      "Fizz\n",
      "Buzz\n",
      "56\n",
      "Fizz\n",
      "58\n",
      "59\n",
      "FizzBuzz\n",
      "61\n",
      "62\n",
      "Fizz\n",
      "64\n",
      "Buzz\n",
      "Fizz\n",
      "67\n",
      "68\n",
      "Fizz\n",
      "Buzz\n",
      "71\n",
      "Fizz\n",
      "73\n",
      "74\n",
      "FizzBuzz\n",
      "76\n",
      "77\n",
      "Fizz\n",
      "79\n",
      "Buzz\n",
      "Fizz\n",
      "82\n",
      "83\n",
      "Fizz\n",
      "Buzz\n",
      "86\n",
      "Fizz\n",
      "88\n",
      "89\n",
      "FizzBuzz\n",
      "91\n",
      "92\n",
      "Fizz\n",
      "94\n",
      "Buzz\n",
      "Fizz\n",
      "97\n",
      "98\n",
      "Fizz\n",
      "Buzz\n"
     ]
    }
   ],
   "source": [
    "def fb(num):\n",
    "    num = int(num)\n",
    "    if num % 3 == 0 and num % 5 ==0:\n",
    "        print(\"FizzBuzz\")\n",
    "    elif num % 3 == 0:\n",
    "        print(\"Fizz\")\n",
    "    elif num % 5 == 0:\n",
    "        print(\"Buzz\")\n",
    "    else:\n",
    "        print(num)       \n",
    "        \n",
    "x = list(range(1,101))\n",
    "for i in x:\n",
    "    fb(i)"
   ]
  },
  {
   "cell_type": "markdown",
   "metadata": {},
   "source": [
    "First, define a function to accept a value. Ensure this value is an integer.\n",
    "\n",
    "Next, confrim if this value is divisible by 3 & 5 - if so, print \"FizzBuzz\". Else, check if it is divisible by 3 - if so, print \"Fizz\". Else, check if it is divisible by 5 - if so, print \"Buzz\". If all else fails, print value.\n",
    "\n",
    "Finally, run this funtion over a range of values from 1-101 (including 100)."
   ]
  }
 ],
 "metadata": {
  "anaconda-cloud": {},
  "kernelspec": {
   "display_name": "Python 3",
   "language": "python",
   "name": "python3"
  },
  "language_info": {
   "codemirror_mode": {
    "name": "ipython",
    "version": 3
   },
   "file_extension": ".py",
   "mimetype": "text/x-python",
   "name": "python",
   "nbconvert_exporter": "python",
   "pygments_lexer": "ipython3",
   "version": "3.6.6"
  }
 },
 "nbformat": 4,
 "nbformat_minor": 2
}
